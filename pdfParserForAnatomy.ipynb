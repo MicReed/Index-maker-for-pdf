{
 "cells": [
  {
   "cell_type": "markdown",
   "metadata": {},
   "source": [
    "# extract text from txt"
   ]
  },
  {
   "cell_type": "code",
   "execution_count": 2,
   "metadata": {},
   "outputs": [],
   "source": [
    "def get_wordlist(filename):\n",
    "    '''func:split the txt.file to be a list of words, input: filepath. output list of words'''\n",
    "    with open (filename,'r',encoding='utf16') as f:#it may be utf16 or utf8 depending on the txt.file。可能是 utf16 或 utf8，具体取决于txt.文件\n",
    "        book=f.read()\n",
    "    COI=book.split('\\n')#COI=contents of interest\n",
    "    COI=[item.strip() for item in COI if (item!='')]\n",
    "    return COI"
   ]
  },
  {
   "cell_type": "markdown",
   "metadata": {},
   "source": [
    "# extrac text from pdf"
   ]
  },
  {
   "cell_type": "code",
   "execution_count": 3,
   "metadata": {},
   "outputs": [],
   "source": [
    "def pdf_dic(filepath,words):\n",
    "    '''for each page of the pdf, extract the text. 对于 pdf 的每一页，提取文本。\n",
    "        For word in the wordlist, if the word appeared in the text, append it to the list in the index dictionary.\n",
    "        对于单词列表中的单词，如果单词出现在文本中，请将其附加到索引词典中的列表中。\n",
    "        input:filepath of the pdf, words: from extracted from previous txt file.pdf的文件路径，从以前的txt文件中提取的单词列表。\n",
    "        output: index dictionary.索引词典'''\n",
    "    import pdfplumber\n",
    "    import re\n",
    "    from tqdm import tqdm#a progress bar module, simply adding a progress bar, has no other usage进度条模块，就是加一个进度条，没有别的用处\n",
    "    index={}\n",
    "    with pdfplumber.open (filepath) as pdf_file:\n",
    "        for idx,page in tqdm(enumerate(pdf_file.pages)):\n",
    "            text = page.extract_text()\n",
    "            for word in words:\n",
    "                find=re.findall(word,text,re.I)\n",
    "                if find:\n",
    "                    for each in find:\n",
    "                        if word in index:\n",
    "                            index[word].append(idx+1)\n",
    "                        else:\n",
    "                            index[word]=[]\n",
    "                            index[word].append(idx+1)\n",
    "    return index"
   ]
  },
  {
   "cell_type": "markdown",
   "metadata": {},
   "source": [
    "# main"
   ]
  },
  {
   "cell_type": "code",
   "execution_count": 4,
   "metadata": {},
   "outputs": [
    {
     "name": "stderr",
     "output_type": "stream",
     "text": [
      "6it [00:00, 24.70it/s]\n"
     ]
    }
   ],
   "source": [
    "import os\n",
    "import re\n",
    "pdfpath=r'test.pdf'\n",
    "wordspath=r'words.txt'\n",
    "wordlist=get_wordlist(wordspath)\n",
    "index=pdf_dic(pdfpath,wordlist)\n",
    "index_path=wordspath[:wordspath.rfind('.')]+'_index.txt'#Generate the index name, followed by index after wordslist name, 生成索引名，为文件后加index\n",
    "with open (index_path,'w') as index_file:\n",
    "    for word,page in index.items():\n",
    "        index_file.write(str(word)+':'+str(page))\n",
    "        index_file.write('\\n')\n"
   ]
  },
  {
   "cell_type": "code",
   "execution_count": null,
   "metadata": {},
   "outputs": [],
   "source": []
  }
 ],
 "metadata": {
  "kernelspec": {
   "display_name": "Python 3.8.8 ('base')",
   "language": "python",
   "name": "python3"
  },
  "language_info": {
   "codemirror_mode": {
    "name": "ipython",
    "version": 3
   },
   "file_extension": ".py",
   "mimetype": "text/x-python",
   "name": "python",
   "nbconvert_exporter": "python",
   "pygments_lexer": "ipython3",
   "version": "3.8.8"
  },
  "orig_nbformat": 4,
  "vscode": {
   "interpreter": {
    "hash": "7b3a8e26380693280b7b413d3913e2344b62da80627a363160e393f4c4620a7c"
   }
  }
 },
 "nbformat": 4,
 "nbformat_minor": 2
}
